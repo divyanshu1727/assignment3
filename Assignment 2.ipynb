{
 "cells": [
  {
   "cell_type": "markdown",
   "id": "f68019ca",
   "metadata": {},
   "source": [
    "# 1"
   ]
  },
  {
   "cell_type": "code",
   "execution_count": null,
   "id": "bc524a13",
   "metadata": {},
   "outputs": [],
   "source": [
    "def is_palindrome(s):\n",
    "    s = s.lower()\n",
    "    s = ''.join(e for e in s if e.isalnum())\n",
    "    return s == s[::-1]"
   ]
  },
  {
   "cell_type": "markdown",
   "id": "616c91ef",
   "metadata": {},
   "source": [
    "# 2"
   ]
  },
  {
   "cell_type": "code",
   "execution_count": 2,
   "id": "3b8a4e12",
   "metadata": {},
   "outputs": [
    {
     "name": "stdout",
     "output_type": "stream",
     "text": [
      "Enter a string to convert: asde\n",
      "Uppercase string is: ASDE\n"
     ]
    }
   ],
   "source": [
    "input_string = input(\"Enter a string to convert: \")\n",
    "uppercase_string = input_string.upper()\n",
    "print(\"Uppercase string is:\", uppercase_string)"
   ]
  },
  {
   "cell_type": "markdown",
   "id": "cf2e760a",
   "metadata": {},
   "source": [
    "# 3"
   ]
  },
  {
   "cell_type": "code",
   "execution_count": 7,
   "id": "897fd680",
   "metadata": {},
   "outputs": [
    {
     "name": "stdout",
     "output_type": "stream",
     "text": [
      "Enter a string: DD\n",
      "Lowercase string: dd\n"
     ]
    }
   ],
   "source": [
    "input_string = input(\"Enter a string: \")\n",
    "lowercase_string = input_string.lower()\n",
    "print(\"Lowercase string:\", lowercase_string)"
   ]
  },
  {
   "cell_type": "markdown",
   "id": "982ba935",
   "metadata": {},
   "source": [
    "# 4"
   ]
  },
  {
   "cell_type": "code",
   "execution_count": 10,
   "id": "c48963e6",
   "metadata": {},
   "outputs": [
    {
     "name": "stdout",
     "output_type": "stream",
     "text": [
      "Number of vowels: 11\n"
     ]
    }
   ],
   "source": [
    "def count_vowels(string):\n",
    "    vowel_count = 0\n",
    "    string = string.lower()\n",
    "    vowels = set(\"aeiou\")\n",
    "    for char in string:\n",
    "        if char in vowels:\n",
    "            vowel_count += 1\n",
    "\n",
    "    return vowel_count\n",
    "\n",
    "input_string = \"Hello, how are you, i am fine?\"\n",
    "result = count_vowels(input_string)\n",
    "print(\"Number of vowels:\", result)"
   ]
  },
  {
   "cell_type": "markdown",
   "id": "2cf5119a",
   "metadata": {},
   "source": [
    "# 5"
   ]
  },
  {
   "cell_type": "code",
   "execution_count": 12,
   "id": "c0d7fc85",
   "metadata": {},
   "outputs": [
    {
     "name": "stdout",
     "output_type": "stream",
     "text": [
      "Enter a string: \n",
      "Number of consonants: 0\n"
     ]
    }
   ],
   "source": [
    "def count_consonants(string):\n",
    "    consonant_count = 0\n",
    "    consonants = \"bcdfghjklmnpqrstvwxyzBCDFGHJKLMNPQRSTVWXYZ\"\n",
    "    for char in string:\n",
    "        if char in consonants:\n",
    "            consonant_count += 1\n",
    "    return consonant_count\n",
    "input_string = input(\"Enter a string: \")\n",
    "result = count_consonants(input_string)\n",
    "print(\"Number of consonants:\", result)"
   ]
  },
  {
   "cell_type": "markdown",
   "id": "c007887d",
   "metadata": {},
   "source": [
    "# 6"
   ]
  },
  {
   "cell_type": "code",
   "execution_count": 15,
   "id": "ab7df374",
   "metadata": {},
   "outputs": [
    {
     "name": "stdout",
     "output_type": "stream",
     "text": [
      "Helloeveryone,mynameisdivyanshudwivedi\n"
     ]
    }
   ],
   "source": [
    "def remove_whitespace(input_string):\n",
    "    result = \"\"\n",
    "    for char in input_string:\n",
    "        if char != \" \":\n",
    "            result += char\n",
    "    return result\n",
    "input_string = \"Hello  every one , my name is divyanshu dwivedi \"\n",
    "output_string = remove_whitespace(input_string)\n",
    "print(output_string)"
   ]
  },
  {
   "cell_type": "markdown",
   "id": "099b1161",
   "metadata": {},
   "source": [
    "# 7"
   ]
  },
  {
   "cell_type": "code",
   "execution_count": 18,
   "id": "1f7dbac1",
   "metadata": {},
   "outputs": [
    {
     "name": "stdout",
     "output_type": "stream",
     "text": [
      "The length of the string is: 48\n"
     ]
    }
   ],
   "source": [
    "count = 0\n",
    "for char in input_string: \n",
    "    count += 1\n",
    "print(\"The length of the string is:\", count)"
   ]
  },
  {
   "cell_type": "markdown",
   "id": "f2f1b4cf",
   "metadata": {},
   "source": [
    "# 8"
   ]
  },
  {
   "cell_type": "code",
   "execution_count": 20,
   "id": "e0919691",
   "metadata": {},
   "outputs": [
    {
     "name": "stdout",
     "output_type": "stream",
     "text": [
      "The length of the string is: 48\n"
     ]
    }
   ],
   "source": [
    "count = 0\n",
    "for char in input_string: \n",
    "    count += 1\n",
    "print(\"The length of the string is:\", count)"
   ]
  },
  {
   "cell_type": "markdown",
   "id": "17a90440",
   "metadata": {},
   "source": [
    "# 9"
   ]
  },
  {
   "cell_type": "code",
   "execution_count": 23,
   "id": "c1338b3a",
   "metadata": {},
   "outputs": [
    {
     "name": "stdout",
     "output_type": "stream",
     "text": [
      "Enter a string: 10\n",
      "Enter the specific word to check for: 1\n",
      "The string contains the word '1'.\n"
     ]
    }
   ],
   "source": [
    "input_string = input(\"Enter a string: \")\n",
    "specific_word = input(\"Enter the specific word to check for: \")\n",
    "if specific_word in input_string:\n",
    "    print(f\"The string contains the word '{specific_word}'.\")\n",
    "else:\n",
    "    print(f\"The string does not contain the word '{specific_word}'.\")"
   ]
  },
  {
   "cell_type": "markdown",
   "id": "f508d9f2",
   "metadata": {},
   "source": [
    "# 10"
   ]
  },
  {
   "cell_type": "code",
   "execution_count": null,
   "id": "ebf431be",
   "metadata": {},
   "outputs": [
    {
     "name": "stdout",
     "output_type": "stream",
     "text": [
      "Enter a sentence: \n"
     ]
    }
   ],
   "source": [
    "input_string = input(\"Enter a sentence: \")\n",
    "old_word = input(\"Enter wrong word to replaced: \")\n",
    "new_word = input(\"Enter the new word to print: \")\n",
    "modified_string = input_string.replace(old_word, new_word)\n",
    "print(\"Modified string:\", modified_string)"
   ]
  },
  {
   "cell_type": "markdown",
   "id": "95d0c7c4",
   "metadata": {},
   "source": [
    "# 11"
   ]
  },
  {
   "cell_type": "code",
   "execution_count": null,
   "id": "a654a2b7",
   "metadata": {},
   "outputs": [],
   "source": [
    "def count_word_occurrences(input_string, target_word):\n",
    "    word_count = 0\n",
    "    words = input_string.split()\n",
    "\n",
    "    for word in words:\n",
    "        if word == target_word:\n",
    "            word_count += 1\n",
    "    return word_count\n",
    "input_string = \"This is a sample sentence. This sentence contains the word 'sample' multiple times.\"\n",
    "target_word = \"sample\"\n",
    "result = count_word_occurrences(input_string, target_word)\n",
    "print(f\"The word '{target_word}' appears {result} times in the input string.\")"
   ]
  },
  {
   "cell_type": "markdown",
   "id": "2336f796",
   "metadata": {},
   "source": [
    "# 12"
   ]
  },
  {
   "cell_type": "code",
   "execution_count": 62,
   "id": "1f7cda7e",
   "metadata": {},
   "outputs": [
    {
     "name": "stdout",
     "output_type": "stream",
     "text": [
      "Index of the first occurrence: None\n"
     ]
    }
   ],
   "source": [
    "def find_first_occurrence(text, word):\n",
    "    index = text.find(word)\n",
    "    if index == -1:\n",
    "        return None \n",
    "        return index\n",
    "\n",
    "text = \"This is an example sentence. This sentence contains the word example.\"\n",
    "word = \"example\"\n",
    "result = find_first_occurrence(text, word)\n",
    "print(\"Index of the first occurrence:\", result)"
   ]
  },
  {
   "cell_type": "markdown",
   "id": "420a8389",
   "metadata": {},
   "source": [
    "# 13\n"
   ]
  },
  {
   "cell_type": "code",
   "execution_count": 70,
   "id": "4071c01c",
   "metadata": {},
   "outputs": [
    {
     "name": "stdout",
     "output_type": "stream",
     "text": [
      "The string is alphanumeric.\n"
     ]
    }
   ],
   "source": [
    "def is_alphanumeric(text):\n",
    "    return text.isalnum()\n",
    "text = \"Hello123\"\n",
    "result = is_alphanumeric(text)\n",
    "if result:\n",
    "    print(\"The string is alphanumeric.\")\n",
    "else:\n",
    "    print(\"The string is not alphanumeric.\")"
   ]
  },
  {
   "cell_type": "markdown",
   "id": "3496bbc9",
   "metadata": {},
   "source": [
    "# 14"
   ]
  },
  {
   "cell_type": "code",
   "execution_count": 72,
   "id": "747d14ea",
   "metadata": {},
   "outputs": [
    {
     "name": "stdout",
     "output_type": "stream",
     "text": [
      "Extracted digits: 123456\n"
     ]
    }
   ],
   "source": [
    "def extract_digits(text):\n",
    "    digits = \"\"\n",
    "    for char in text:\n",
    "        if char.isdigit():\n",
    "            digits += char\n",
    "    return digits\n",
    "text = \"Hello123World456\"\n",
    "extracted_digits = extract_digits(text)\n",
    "print(\"Extracted digits:\", extracted_digits)"
   ]
  },
  {
   "cell_type": "code",
   "execution_count": 74,
   "id": "c23ca7a9",
   "metadata": {},
   "outputs": [
    {
     "name": "stdout",
     "output_type": "stream",
     "text": [
      "H e l l o W o r l d\n"
     ]
    }
   ],
   "source": [
    "def extract_alphabets(input_string):\n",
    "    alphabets = ' '.join([char for char in input_string if char.isalpha()])\n",
    "    return alphabets\n",
    "input_string = \"Hello123World456\"\n",
    "result = extract_alphabets(input_string)\n",
    "print(result)"
   ]
  },
  {
   "cell_type": "code",
   "execution_count": 76,
   "id": "900f9970",
   "metadata": {},
   "outputs": [
    {
     "name": "stdout",
     "output_type": "stream",
     "text": [
      "6\n"
     ]
    }
   ],
   "source": [
    "def count_uppercase(input_string):\n",
    "    uppercase_count = sum(1 for char in input_string if char.isupper())\n",
    "    return uppercase_count\n",
    "input_string = \"Hellothis IS My OWrld\"\n",
    "result = count_uppercase(input_string)\n",
    "print(result)"
   ]
  },
  {
   "cell_type": "markdown",
   "id": "aba7dec5",
   "metadata": {},
   "source": [
    "# 15\n"
   ]
  },
  {
   "cell_type": "code",
   "execution_count": 77,
   "id": "96a764b6",
   "metadata": {},
   "outputs": [
    {
     "name": "stdout",
     "output_type": "stream",
     "text": [
      "4\n"
     ]
    }
   ],
   "source": [
    "def count_lowercase(input_string):\n",
    "    lowercase_count = sum(1 for char in input_string if char.islower())\n",
    "    return lowercase_count\n",
    "input_string = \"HelloWORLD\"\n",
    "result = count_lowercase(input_string)\n",
    "print(result)"
   ]
  },
  {
   "cell_type": "markdown",
   "id": "69215018",
   "metadata": {},
   "source": [
    "# 16"
   ]
  },
  {
   "cell_type": "code",
   "execution_count": 78,
   "id": "c57f82e9",
   "metadata": {},
   "outputs": [
    {
     "name": "stdout",
     "output_type": "stream",
     "text": [
      "hELLOworld\n"
     ]
    }
   ],
   "source": [
    "def swap_case(input_string):\n",
    "    swapped_string = input_string.swapcase()\n",
    "    return swapped_string\n",
    "input_string = \"HelloWORLD\"\n",
    "result = swap_case(input_string)\n",
    "print(result)"
   ]
  },
  {
   "cell_type": "markdown",
   "id": "20339e01",
   "metadata": {},
   "source": [
    "# 17"
   ]
  },
  {
   "cell_type": "code",
   "execution_count": 79,
   "id": "c003b1e7",
   "metadata": {},
   "outputs": [
    {
     "name": "stdout",
     "output_type": "stream",
     "text": [
      "example\n"
     ]
    }
   ],
   "source": [
    "def extract_username(email):\n",
    "    username = email.split('@')[0]  # Split the email address at \"@\" and take the first part\n",
    "    return username\n",
    "\n",
    "email = \"example@email.com\"\n",
    "result = extract_username(email)\n",
    "print(result)"
   ]
  },
  {
   "cell_type": "markdown",
   "id": "10ce8541",
   "metadata": {},
   "source": [
    "# 18"
   ]
  },
  {
   "cell_type": "code",
   "execution_count": 81,
   "id": "d7f9bf4d",
   "metadata": {},
   "outputs": [
    {
     "name": "stdout",
     "output_type": "stream",
     "text": [
      "email.com\n"
     ]
    }
   ],
   "source": [
    "def extract_domain(email):\n",
    "    domain = email.split('@')[1] \n",
    "    return domain\n",
    "\n",
    "email = \"example@email.com\"\n",
    "result = extract_domain(email)\n",
    "print(result)"
   ]
  },
  {
   "cell_type": "markdown",
   "id": "23997af1",
   "metadata": {},
   "source": [
    "# 19"
   ]
  },
  {
   "cell_type": "code",
   "execution_count": 82,
   "id": "e6da609a",
   "metadata": {},
   "outputs": [
    {
     "name": "stdout",
     "output_type": "stream",
     "text": [
      "Hello world! How are you?\n"
     ]
    }
   ],
   "source": [
    "def replace_multiple_spaces(input_string):\n",
    "    cleaned_string = ' '.join(input_string.split())  # Split the string at spaces and then join using a single space\n",
    "    return cleaned_string\n",
    "\n",
    "# Example input string with multiple spaces\n",
    "input_string = \"Hello     world!   How   are   you?\"\n",
    "result = replace_multiple_spaces(input_string)\n",
    "print(result)"
   ]
  },
  {
   "cell_type": "markdown",
   "id": "eb64d6a8",
   "metadata": {},
   "source": [
    "# Set Based Practice problem"
   ]
  },
  {
   "cell_type": "markdown",
   "id": "292b19c4",
   "metadata": {},
   "source": [
    "# 1"
   ]
  },
  {
   "cell_type": "code",
   "execution_count": null,
   "id": "0202c125",
   "metadata": {},
   "outputs": [],
   "source": [
    "integer_list = [i for i in range(1, 11)]\n",
    "print(integer_list)"
   ]
  },
  {
   "cell_type": "markdown",
   "id": "f553b9cf",
   "metadata": {},
   "source": [
    "# 2"
   ]
  },
  {
   "cell_type": "code",
   "execution_count": 3,
   "id": "06b57ed6",
   "metadata": {},
   "outputs": [
    {
     "name": "stdout",
     "output_type": "stream",
     "text": [
      "Updated list: [10, 20, 49, 120, 438]\n"
     ]
    }
   ],
   "source": [
    "my_list = [10, 20, 49,120]\n",
    "new_element = 438\n",
    "my_list.append(new_element)\n",
    "print(\"Updated list:\", my_list)"
   ]
  },
  {
   "cell_type": "markdown",
   "id": "0bc8bc49",
   "metadata": {},
   "source": [
    "# 3"
   ]
  },
  {
   "cell_type": "code",
   "execution_count": 7,
   "id": "3756bbe9",
   "metadata": {},
   "outputs": [
    {
     "name": "stdout",
     "output_type": "stream",
     "text": [
      "Updated list: [10, 20, 21, 29, 41, 50]\n"
     ]
    }
   ],
   "source": [
    "my_list = [10, 20, 29, 41, 50]\n",
    "new_element = 21\n",
    "index_to_insert = 2\n",
    "my_list.insert(index_to_insert, new_element)\n",
    "print(\"Updated list:\", my_list)"
   ]
  },
  {
   "cell_type": "markdown",
   "id": "61c596c3",
   "metadata": {},
   "source": [
    "# 4"
   ]
  },
  {
   "cell_type": "code",
   "execution_count": 11,
   "id": "20330b7f",
   "metadata": {},
   "outputs": [
    {
     "name": "stdout",
     "output_type": "stream",
     "text": [
      "Updated list: [10, 29, 40, 50]\n"
     ]
    }
   ],
   "source": [
    "my_list = [10, 20, 29, 40, 50]\n",
    "element_to_remove = 20\n",
    "my_list.remove(element_to_remove)\n",
    "print(\"Updated list:\", my_list)"
   ]
  },
  {
   "cell_type": "markdown",
   "id": "2fd353a3",
   "metadata": {},
   "source": [
    "# 5"
   ]
  },
  {
   "cell_type": "code",
   "execution_count": 14,
   "id": "7bbd4629",
   "metadata": {},
   "outputs": [
    {
     "name": "stdout",
     "output_type": "stream",
     "text": [
      "Updated list: [60, 40, 80, 90]\n",
      "Removed element: 50\n"
     ]
    }
   ],
   "source": [
    "my_list = [60,40,50,80,90]\n",
    "index_to_remove = 2\n",
    "removed_element = my_list.pop(index_to_remove)\n",
    "print(\"Updated list:\", my_list)\n",
    "print(\"Removed element:\", removed_element)"
   ]
  },
  {
   "cell_type": "markdown",
   "id": "fddd6819",
   "metadata": {},
   "source": [
    "# 6"
   ]
  },
  {
   "cell_type": "code",
   "execution_count": 18,
   "id": "27b5296f",
   "metadata": {},
   "outputs": [
    {
     "name": "stdout",
     "output_type": "stream",
     "text": [
      "The index of 120 is 3\n"
     ]
    }
   ],
   "source": [
    "my_list = [10, 20, 30,120, 40, 50, 30]\n",
    "element_to_find = 120\n",
    "index = my_list.index(element_to_find)\n",
    "print(f\"The index of {element_to_find} is {index}\")"
   ]
  },
  {
   "cell_type": "markdown",
   "id": "908e2bf3",
   "metadata": {},
   "source": [
    "# 7"
   ]
  },
  {
   "cell_type": "code",
   "execution_count": 22,
   "id": "f3953291",
   "metadata": {},
   "outputs": [
    {
     "name": "stdout",
     "output_type": "stream",
     "text": [
      "The element 30 occurs 3 times in the list.\n"
     ]
    }
   ],
   "source": [
    "my_list = [10, 20, 30, 40, 50, 30, 30]\n",
    "element_to_count = 30\n",
    "count = my_list.count(element_to_count)\n",
    "print(f\"The element {element_to_count} occurs {count} times in the list.\")"
   ]
  },
  {
   "cell_type": "markdown",
   "id": "fe8acebc",
   "metadata": {},
   "source": [
    "# 8"
   ]
  },
  {
   "cell_type": "code",
   "execution_count": 30,
   "id": "4595e60c",
   "metadata": {},
   "outputs": [
    {
     "name": "stdout",
     "output_type": "stream",
     "text": [
      "Reversed list: [3, 2, 8, 36, 2, 4, 9]\n"
     ]
    }
   ],
   "source": [
    "my_list = [1]\n",
    "my_list.reverse()\n",
    "print(\"Reversed list:\", my_list)"
   ]
  },
  {
   "cell_type": "markdown",
   "id": "30376503",
   "metadata": {},
   "source": [
    "# 9"
   ]
  },
  {
   "cell_type": "code",
   "execution_count": 34,
   "id": "b0797993",
   "metadata": {},
   "outputs": [
    {
     "name": "stdout",
     "output_type": "stream",
     "text": [
      "Sorted list in ascending order: [10, 20, 30, 40, 50]\n"
     ]
    }
   ],
   "source": [
    "my_list = [50, 10, 30, 40, 20]\n",
    "my_list.sort()\n",
    "print(\"Sorted list in ascending order:\", my_list)"
   ]
  },
  {
   "cell_type": "markdown",
   "id": "2c12df6e",
   "metadata": {},
   "source": [
    "# 10"
   ]
  },
  {
   "cell_type": "code",
   "execution_count": 39,
   "id": "15ce4491",
   "metadata": {},
   "outputs": [
    {
     "name": "stdout",
     "output_type": "stream",
     "text": [
      "List of even numbers: [2, 4, 6, 8, 10, 12, 14, 16, 18, 20]\n"
     ]
    }
   ],
   "source": [
    "even_numbers = [x for x in range(2, 21, 2)]\n",
    "print(\"List of even numbers:\", even_numbers)\n"
   ]
  },
  {
   "cell_type": "markdown",
   "id": "60f66f16",
   "metadata": {},
   "source": [
    "# 11"
   ]
  },
  {
   "cell_type": "code",
   "execution_count": 50,
   "id": "17d3a430",
   "metadata": {},
   "outputs": [
    {
     "name": "stdout",
     "output_type": "stream",
     "text": [
      "Sum of elements: 150\n"
     ]
    }
   ],
   "source": [
    "my_list = [10, 20, 30, 40, 50,60,70]\n",
    "total_sum = sum(my_list)\n",
    "print(\"Sum of elements is:\", total_sum)"
   ]
  },
  {
   "cell_type": "markdown",
   "id": "ad2a1b50",
   "metadata": {},
   "source": [
    "# 12"
   ]
  },
  {
   "cell_type": "code",
   "execution_count": 52,
   "id": "fd44132d",
   "metadata": {},
   "outputs": [
    {
     "name": "stdout",
     "output_type": "stream",
     "text": [
      "Maximum value: 1345\n"
     ]
    }
   ],
   "source": [
    "my_list = [10, 20, 30, 40, 50,32,36,1345]\n",
    "max_value = max(my_list)\n",
    "print(\"Maximum value:\", max_value)"
   ]
  },
  {
   "cell_type": "markdown",
   "id": "42e83c47",
   "metadata": {},
   "source": [
    "# 13"
   ]
  },
  {
   "cell_type": "code",
   "execution_count": 54,
   "id": "f0d3e712",
   "metadata": {},
   "outputs": [
    {
     "name": "stdout",
     "output_type": "stream",
     "text": [
      "Minimum value: 13\n"
     ]
    }
   ],
   "source": [
    "my_list = [13,31,63,78,27,82]\n",
    "min_value = min(my_list) \n",
    "print(\"Minimum value:\", min_value)"
   ]
  },
  {
   "cell_type": "markdown",
   "id": "d6b5e157",
   "metadata": {},
   "source": [
    "# 14"
   ]
  },
  {
   "cell_type": "code",
   "execution_count": 55,
   "id": "ec1a9cbc",
   "metadata": {},
   "outputs": [
    {
     "name": "stdout",
     "output_type": "stream",
     "text": [
      "List of squares: [1, 4, 9, 16, 25, 36, 49, 64, 81, 100]\n"
     ]
    }
   ],
   "source": [
    "squares = [x ** 2 for x in range(1, 11)]\n",
    "print(\"List of squares:\", squares)"
   ]
  },
  {
   "cell_type": "markdown",
   "id": "6ad1efde",
   "metadata": {},
   "source": [
    "# 15"
   ]
  },
  {
   "cell_type": "code",
   "execution_count": 56,
   "id": "898d6e21",
   "metadata": {},
   "outputs": [
    {
     "name": "stdout",
     "output_type": "stream",
     "text": [
      "List of random integers: [34, 48, 70, 3, 82, 82, 13, 2, 75, 64]\n"
     ]
    }
   ],
   "source": [
    "import random\n",
    "random_integers = [random.randint(1, 100) for _ in range(10)]\n",
    "print(\"List of random integers:\", random_integers)"
   ]
  },
  {
   "cell_type": "markdown",
   "id": "9def09b1",
   "metadata": {},
   "source": [
    "# 16"
   ]
  },
  {
   "cell_type": "code",
   "execution_count": 58,
   "id": "d2585ff6",
   "metadata": {},
   "outputs": [
    {
     "name": "stdout",
     "output_type": "stream",
     "text": [
      "List without duplicates: [40, 10, 50, 20, 54, 30]\n"
     ]
    }
   ],
   "source": [
    "my_list = [10, 20, 30, 20, 40, 10, 50, 30,10,54]\n",
    "unique_list = list(set(my_list))\n",
    "print(\"List without duplicates:\", unique_list)"
   ]
  },
  {
   "cell_type": "markdown",
   "id": "276bae4f",
   "metadata": {},
   "source": [
    "# 17"
   ]
  },
  {
   "cell_type": "code",
   "execution_count": 59,
   "id": "8e41e5ca",
   "metadata": {},
   "outputs": [
    {
     "name": "stdout",
     "output_type": "stream",
     "text": [
      "Difference between lists: [20, 10]\n"
     ]
    }
   ],
   "source": [
    "list1 = [10, 20, 30, 40, 50]\n",
    "list2 = [30, 40, 50, 60, 70]\n",
    "difference = list(set(list1).difference(list2))\n",
    "print(\"Difference between lists:\", difference)"
   ]
  },
  {
   "cell_type": "markdown",
   "id": "22287caa",
   "metadata": {},
   "source": [
    "# 18"
   ]
  },
  {
   "cell_type": "code",
   "execution_count": 60,
   "id": "cfc6cee3",
   "metadata": {},
   "outputs": [
    {
     "name": "stdout",
     "output_type": "stream",
     "text": [
      "Multiplied list: [20, 40, 60, 80, 100]\n"
     ]
    }
   ],
   "source": [
    "my_list = [10, 20, 30, 40, 50]\n",
    "multiplied_list = [x * 2 for x in my_list]\n",
    "print(\"Multiplied list:\", multiplied_list)"
   ]
  },
  {
   "cell_type": "markdown",
   "id": "b276a9be",
   "metadata": {},
   "source": [
    "# 19"
   ]
  },
  {
   "cell_type": "code",
   "execution_count": 61,
   "id": "65cc1070",
   "metadata": {},
   "outputs": [
    {
     "name": "stdout",
     "output_type": "stream",
     "text": [
      "List of integers: [10, 20, 30, 40, 50]\n"
     ]
    }
   ],
   "source": [
    "string_list = [\"10\", \"20\", \"30\", \"40\", \"50\"]\n",
    "integer_list = [int(x) for x in string_list]\n",
    "print(\"List of integers:\", integer_list)"
   ]
  },
  {
   "cell_type": "markdown",
   "id": "fdf92764",
   "metadata": {},
   "source": [
    "# 20"
   ]
  },
  {
   "cell_type": "code",
   "execution_count": null,
   "id": "3c553711",
   "metadata": {},
   "outputs": [],
   "source": []
  }
 ],
 "metadata": {
  "kernelspec": {
   "display_name": "Python 3 (ipykernel)",
   "language": "python",
   "name": "python3"
  },
  "language_info": {
   "codemirror_mode": {
    "name": "ipython",
    "version": 3
   },
   "file_extension": ".py",
   "mimetype": "text/x-python",
   "name": "python",
   "nbconvert_exporter": "python",
   "pygments_lexer": "ipython3",
   "version": "3.10.9"
  }
 },
 "nbformat": 4,
 "nbformat_minor": 5
}
